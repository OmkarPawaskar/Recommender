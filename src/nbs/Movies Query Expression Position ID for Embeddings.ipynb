{
 "cells": [
  {
   "cell_type": "code",
   "execution_count": 1,
   "metadata": {},
   "outputs": [],
   "source": [
    "import setup_django\n",
    "setup_django.init()"
   ]
  },
  {
   "cell_type": "code",
   "execution_count": 2,
   "metadata": {},
   "outputs": [],
   "source": [
    "from movies.models import Movie\n",
    "\n",
    "qs = Movie.objects.all().order_by('id')[:100]"
   ]
  },
  {
   "cell_type": "code",
   "execution_count": 3,
   "metadata": {},
   "outputs": [
    {
     "name": "stdout",
     "output_type": "stream",
     "text": [
      "position: 0 \t\tid: 1 \t\tdelta: 1\n",
      "position: 1 \t\tid: 2 \t\tdelta: 1\n",
      "position: 2 \t\tid: 3 \t\tdelta: 1\n",
      "position: 3 \t\tid: 4 \t\tdelta: 1\n",
      "position: 4 \t\tid: 5 \t\tdelta: 1\n",
      "position: 5 \t\tid: 6 \t\tdelta: 1\n",
      "position: 6 \t\tid: 7 \t\tdelta: 1\n",
      "position: 7 \t\tid: 8 \t\tdelta: 1\n",
      "position: 8 \t\tid: 9 \t\tdelta: 1\n",
      "position: 9 \t\tid: 10 \t\tdelta: 1\n",
      "position: 10 \t\tid: 11 \t\tdelta: 1\n"
     ]
    }
   ],
   "source": [
    "for i, obj in enumerate(qs):\n",
    "    print(\"position:\", i, \"\\t\\tid:\", obj.id, '\\t\\tdelta:', obj.id - i)"
   ]
  },
  {
   "cell_type": "code",
   "execution_count": 4,
   "metadata": {},
   "outputs": [],
   "source": [
    "from django.db.models import Window, F\n",
    "from django.db.models.functions import DenseRank"
   ]
  },
  {
   "cell_type": "code",
   "execution_count": 5,
   "metadata": {},
   "outputs": [
    {
     "name": "stdout",
     "output_type": "stream",
     "text": [
      "position: 0 \t\tidx: 0 \t\tobj: 1 \t\tdelta: 0\n",
      "position: 1 \t\tidx: 1 \t\tobj: 2 \t\tdelta: 0\n",
      "position: 2 \t\tidx: 2 \t\tobj: 3 \t\tdelta: 0\n",
      "position: 3 \t\tidx: 3 \t\tobj: 4 \t\tdelta: 0\n",
      "position: 4 \t\tidx: 4 \t\tobj: 5 \t\tdelta: 0\n",
      "position: 5 \t\tidx: 5 \t\tobj: 6 \t\tdelta: 0\n",
      "position: 6 \t\tidx: 6 \t\tobj: 7 \t\tdelta: 0\n",
      "position: 7 \t\tidx: 7 \t\tobj: 8 \t\tdelta: 0\n",
      "position: 8 \t\tidx: 8 \t\tobj: 9 \t\tdelta: 0\n",
      "position: 9 \t\tidx: 9 \t\tobj: 10 \t\tdelta: 0\n",
      "position: 10 \t\tidx: 10 \t\tobj: 11 \t\tdelta: 0\n"
     ]
    }
   ],
   "source": [
    "qs = Movie.objects.all().annotate(\n",
    "    new_idx=Window(\n",
    "        expression=DenseRank(),\n",
    "        order_by=[F('id').asc()]\n",
    "    )\n",
    ").annotate(final_idx = F('new_idx') - 1\n",
    ")\n",
    "\n",
    "for i, obj in enumerate(qs[:100]):\n",
    "    print(\"position:\", i, \"\\t\\tidx:\", obj.final_idx, \"\\t\\tobj:\", obj.id,  '\\t\\tdelta:', obj.final_idx - i)"
   ]
  },
  {
   "cell_type": "code",
   "execution_count": null,
   "metadata": {},
   "outputs": [],
   "source": []
  }
 ],
 "metadata": {
  "kernelspec": {
   "display_name": "env",
   "language": "python",
   "name": "python3"
  },
  "language_info": {
   "codemirror_mode": {
    "name": "ipython",
    "version": 3
   },
   "file_extension": ".py",
   "mimetype": "text/x-python",
   "name": "python",
   "nbconvert_exporter": "python",
   "pygments_lexer": "ipython3",
   "version": "3.11.9"
  }
 },
 "nbformat": 4,
 "nbformat_minor": 2
}
